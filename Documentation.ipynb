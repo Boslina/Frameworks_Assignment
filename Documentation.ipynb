{
 "cells": [
  {
   "cell_type": "markdown",
   "id": "8d885d2f",
   "metadata": {},
   "source": [
    "Dataset Overview\n",
    "\n",
    "The dataset used is the CORD-19 metadata.csv, which contains bibliographic information on COVID-19 and coronavirus-related research papers.\n",
    "Key columns include:\n",
    "\n",
    "title – paper titles\n",
    "\n",
    "abstract – paper abstracts\n",
    "\n",
    "publish_time – publication dates\n",
    "\n",
    "journal – publishing journals\n",
    "\n",
    "authors – author information\n",
    "\n",
    "source_x – data source\n",
    "\n",
    "After cleaning, missing values were handled, and the publish_time column was converted to datetime to allow year-based analysis.\n",
    "\n",
    "\n",
    "\n"
   ]
  },
  {
   "cell_type": "markdown",
   "id": "eab7316b",
   "metadata": {},
   "source": [
    "Key Findings\n",
    "\n",
    "Publication Trend:\n",
    "Research publications spiked significantly in 2020 and 2021, reflecting the global surge in COVID-19–related studies.\n",
    "\n",
    "Top Journals:\n",
    "The dataset highlights journals such as Journal of Virology, The BMJ, and PLoS One as major contributors to COVID-19 literature.\n",
    "\n",
    "Frequent Words in Titles:\n",
    "Word frequency analysis shows terms such as “COVID-19”, “coronavirus”, “SARS-CoV-2”, and “health” occurring most often, consistent with the pandemic’s focus.\n",
    "\n",
    "Sources:\n",
    "Papers originated from a mix of publishers and repositories, including PubMed, WHO, and PMC."
   ]
  },
  {
   "cell_type": "markdown",
   "id": "ee46bc6f",
   "metadata": {},
   "source": [
    "Challenges Faced\n",
    "\n",
    "Large File Size:\n",
    "The dataset is very large, which caused slow loading and processing at times. Using a subset of the data was helpful.\n",
    "\n",
    "Missing Data:\n",
    "Several key fields (e.g., abstracts, authors) had many missing values, requiring decisions on whether to drop or impute them.\n",
    "\n",
    "Date Cleaning:\n",
    "Some records had invalid or incomplete dates, which had to be coerced into valid formats or excluded."
   ]
  },
  {
   "cell_type": "markdown",
   "id": "4eeef91d",
   "metadata": {},
   "source": [
    "Learnings\n",
    "\n",
    "Gained hands-on experience with the data science workflow: loading, cleaning, analyzing, and visualizing data.\n",
    "\n",
    "Learned how to handle missing values and format date columns for time-based analysis.\n",
    "\n",
    "Practiced creating visualizations using Matplotlib, Seaborn, and Streamlit.\n",
    "\n",
    "Understood the importance of incremental debugging and working with subsets of large datasets to save time.\n",
    "\n",
    "Developed a simple Streamlit app to make the analysis interactive and user-friendly."
   ]
  }
 ],
 "metadata": {
  "language_info": {
   "name": "python"
  }
 },
 "nbformat": 4,
 "nbformat_minor": 5
}
